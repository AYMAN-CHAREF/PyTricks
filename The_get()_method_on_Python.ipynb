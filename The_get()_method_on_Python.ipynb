{
  "nbformat": 4,
  "nbformat_minor": 0,
  "metadata": {
    "colab": {
      "provenance": [],
      "authorship_tag": "ABX9TyOW6QvJhezP+fZg/yyLztwH",
      "include_colab_link": true
    },
    "kernelspec": {
      "name": "python3",
      "display_name": "Python 3"
    },
    "language_info": {
      "name": "python"
    }
  },
  "cells": [
    {
      "cell_type": "markdown",
      "metadata": {
        "id": "view-in-github",
        "colab_type": "text"
      },
      "source": [
        "<a href=\"https://colab.research.google.com/github/AYMAN-CHAREF/PyTricks/blob/main/The_get()_method_on_Python.ipynb\" target=\"_parent\"><img src=\"https://colab.research.google.com/assets/colab-badge.svg\" alt=\"Open In Colab\"/></a>"
      ]
    },
    {
      "cell_type": "markdown",
      "source": [
        "# The get() method on dicts and its \"default\" argument"
      ],
      "metadata": {
        "id": "XpTcdFAEBnS1"
      }
    },
    {
      "cell_type": "code",
      "execution_count": 5,
      "metadata": {
        "id": "1Gt6TZRo_Me2"
      },
      "outputs": [],
      "source": [
        "name_for_userid = {\n",
        "    382: \"Ayman\",\n",
        "    590: \"Charef\",\n",
        "    951: \"Youssef\",\n",
        "}"
      ]
    },
    {
      "cell_type": "code",
      "source": [
        "def greeting(userid):\n",
        "    return \"Hi %s!\" % name_for_userid.get(userid, \"there\")"
      ],
      "metadata": {
        "id": "rEv6DDBWBxT7"
      },
      "execution_count": 6,
      "outputs": []
    },
    {
      "cell_type": "code",
      "source": [
        "greeting(382)"
      ],
      "metadata": {
        "colab": {
          "base_uri": "https://localhost:8080/",
          "height": 35
        },
        "id": "K8wRazKmB1gf",
        "outputId": "f4955930-02f7-4995-8aac-1df5b9e8439a"
      },
      "execution_count": 8,
      "outputs": [
        {
          "output_type": "execute_result",
          "data": {
            "text/plain": [
              "'Hi Ayman!'"
            ],
            "application/vnd.google.colaboratory.intrinsic+json": {
              "type": "string"
            }
          },
          "metadata": {},
          "execution_count": 8
        }
      ]
    },
    {
      "cell_type": "code",
      "source": [
        "greeting(333333)"
      ],
      "metadata": {
        "colab": {
          "base_uri": "https://localhost:8080/",
          "height": 35
        },
        "id": "hILz-_MgB6TH",
        "outputId": "a45c7178-da6f-4a41-d0ef-bac595097664"
      },
      "execution_count": 9,
      "outputs": [
        {
          "output_type": "execute_result",
          "data": {
            "text/plain": [
              "'Hi there!'"
            ],
            "application/vnd.google.colaboratory.intrinsic+json": {
              "type": "string"
            }
          },
          "metadata": {},
          "execution_count": 9
        }
      ]
    }
  ]
}