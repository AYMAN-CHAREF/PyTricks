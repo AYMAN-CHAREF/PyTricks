{
  "nbformat": 4,
  "nbformat_minor": 0,
  "metadata": {
    "colab": {
      "provenance": [],
      "authorship_tag": "ABX9TyOy8WJHGYoxCf5ZAy30q88v",
      "include_colab_link": true
    },
    "kernelspec": {
      "name": "python3",
      "display_name": "Python 3"
    },
    "language_info": {
      "name": "python"
    }
  },
  "cells": [
    {
      "cell_type": "markdown",
      "metadata": {
        "id": "view-in-github",
        "colab_type": "text"
      },
      "source": [
        "<a href=\"https://colab.research.google.com/github/AYMAN-CHAREF/PyTricks/blob/main/Sort_a_Python_dict_by_value.ipynb\" target=\"_parent\"><img src=\"https://colab.research.google.com/assets/colab-badge.svg\" alt=\"Open In Colab\"/></a>"
      ]
    },
    {
      "cell_type": "markdown",
      "source": [
        "# How to sort a Python dict by value\n",
        "# (== get a representation sorted by value)"
      ],
      "metadata": {
        "id": "fzk3WW2QZxyY"
      }
    },
    {
      "cell_type": "code",
      "execution_count": 1,
      "metadata": {
        "id": "6ZsnphNmZsgj"
      },
      "outputs": [],
      "source": [
        "xs = {'a': 4, 'b': 3, 'c': 2, 'd': 1}"
      ]
    },
    {
      "cell_type": "code",
      "source": [
        "sorted(xs.items(), key=lambda x: x[1])"
      ],
      "metadata": {
        "colab": {
          "base_uri": "https://localhost:8080/"
        },
        "id": "XDa68sw4Z-v0",
        "outputId": "76db715d-a71a-4f8c-c7b7-e169a70023e0"
      },
      "execution_count": 2,
      "outputs": [
        {
          "output_type": "execute_result",
          "data": {
            "text/plain": [
              "[('d', 1), ('c', 2), ('b', 3), ('a', 4)]"
            ]
          },
          "metadata": {},
          "execution_count": 2
        }
      ]
    },
    {
      "cell_type": "markdown",
      "source": [
        "# Or:"
      ],
      "metadata": {
        "id": "XGwzK6iBaOPh"
      }
    },
    {
      "cell_type": "code",
      "source": [
        "import operator"
      ],
      "metadata": {
        "id": "COL8Bb59aV9n"
      },
      "execution_count": 3,
      "outputs": []
    },
    {
      "cell_type": "code",
      "source": [
        "sorted(xs.items(), key=operator.itemgetter(1))"
      ],
      "metadata": {
        "colab": {
          "base_uri": "https://localhost:8080/"
        },
        "id": "a_Ry0Vf2aWHP",
        "outputId": "a50aad1d-ce2d-414c-b6b2-c091be84815b"
      },
      "execution_count": 4,
      "outputs": [
        {
          "output_type": "execute_result",
          "data": {
            "text/plain": [
              "[('d', 1), ('c', 2), ('b', 3), ('a', 4)]"
            ]
          },
          "metadata": {},
          "execution_count": 4
        }
      ]
    }
  ]
}