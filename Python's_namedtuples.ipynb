{
  "nbformat": 4,
  "nbformat_minor": 0,
  "metadata": {
    "colab": {
      "provenance": [],
      "authorship_tag": "ABX9TyNwwm4rmEd2aug0jWOn/jJM",
      "include_colab_link": true
    },
    "kernelspec": {
      "name": "python3",
      "display_name": "Python 3"
    },
    "language_info": {
      "name": "python"
    }
  },
  "cells": [
    {
      "cell_type": "markdown",
      "metadata": {
        "id": "view-in-github",
        "colab_type": "text"
      },
      "source": [
        "<a href=\"https://colab.research.google.com/github/AYMAN-CHAREF/PyTricks/blob/main/Python's_namedtuples.ipynb\" target=\"_parent\"><img src=\"https://colab.research.google.com/assets/colab-badge.svg\" alt=\"Open In Colab\"/></a>"
      ]
    },
    {
      "cell_type": "markdown",
      "source": [
        "# Why Python is Great: Namedtuples\n",
        "# Using namedtuple is way shorter than defining a class manually:"
      ],
      "metadata": {
        "id": "nWNfd91oZbje"
      }
    },
    {
      "cell_type": "code",
      "execution_count": 1,
      "metadata": {
        "id": "jugbnVweY7j4"
      },
      "outputs": [],
      "source": [
        "from collections import namedtuple"
      ]
    },
    {
      "cell_type": "code",
      "source": [
        " Car = namedtuple('Car', 'color mileage')"
      ],
      "metadata": {
        "id": "o6MZC5X9Zpng"
      },
      "execution_count": 2,
      "outputs": []
    },
    {
      "cell_type": "markdown",
      "source": [
        "Our new \"Car\" class works as expected:"
      ],
      "metadata": {
        "id": "s4D7cHh0Z0Ye"
      }
    },
    {
      "cell_type": "code",
      "source": [
        "my_car = Car('red', 3812.4)"
      ],
      "metadata": {
        "id": "w8R1HijqZz9V"
      },
      "execution_count": 3,
      "outputs": []
    },
    {
      "cell_type": "code",
      "source": [
        " my_car.color"
      ],
      "metadata": {
        "colab": {
          "base_uri": "https://localhost:8080/",
          "height": 35
        },
        "id": "fKRq2gDoaFcC",
        "outputId": "f9c9f465-f729-4a3a-d224-70ea934501b4"
      },
      "execution_count": 4,
      "outputs": [
        {
          "output_type": "execute_result",
          "data": {
            "text/plain": [
              "'red'"
            ],
            "application/vnd.google.colaboratory.intrinsic+json": {
              "type": "string"
            }
          },
          "metadata": {},
          "execution_count": 4
        }
      ]
    },
    {
      "cell_type": "code",
      "source": [
        "my_car.mileage"
      ],
      "metadata": {
        "colab": {
          "base_uri": "https://localhost:8080/"
        },
        "id": "-L2ex-z2aMi6",
        "outputId": "7844449d-db05-44be-c9ad-d2b53a685fe1"
      },
      "execution_count": 5,
      "outputs": [
        {
          "output_type": "execute_result",
          "data": {
            "text/plain": [
              "3812.4"
            ]
          },
          "metadata": {},
          "execution_count": 5
        }
      ]
    },
    {
      "cell_type": "markdown",
      "source": [
        "# We get a nice string repr for free:"
      ],
      "metadata": {
        "id": "dTZ10yhaaZrq"
      }
    },
    {
      "cell_type": "code",
      "source": [
        "my_car"
      ],
      "metadata": {
        "colab": {
          "base_uri": "https://localhost:8080/"
        },
        "id": "MsFYsah1aTbQ",
        "outputId": "982eee26-e9cb-4c40-b9cb-b2c4b95d3136"
      },
      "execution_count": 6,
      "outputs": [
        {
          "output_type": "execute_result",
          "data": {
            "text/plain": [
              "Car(color='red', mileage=3812.4)"
            ]
          },
          "metadata": {},
          "execution_count": 6
        }
      ]
    },
    {
      "cell_type": "markdown",
      "source": [
        "# Like tuples, namedtuples are immutable:"
      ],
      "metadata": {
        "id": "zJP5QAZRam0T"
      }
    },
    {
      "cell_type": "code",
      "source": [
        "my_car.color = 'blue'"
      ],
      "metadata": {
        "colab": {
          "base_uri": "https://localhost:8080/",
          "height": 141
        },
        "id": "Cpu5i3ttauc-",
        "outputId": "cd289806-36a8-4f3e-d81b-7425638ec6aa"
      },
      "execution_count": 7,
      "outputs": [
        {
          "output_type": "error",
          "ename": "AttributeError",
          "evalue": "can't set attribute",
          "traceback": [
            "\u001b[0;31m---------------------------------------------------------------------------\u001b[0m",
            "\u001b[0;31mAttributeError\u001b[0m                            Traceback (most recent call last)",
            "\u001b[0;32m<ipython-input-7-e7708201268d>\u001b[0m in \u001b[0;36m<cell line: 0>\u001b[0;34m()\u001b[0m\n\u001b[0;32m----> 1\u001b[0;31m \u001b[0mmy_car\u001b[0m\u001b[0;34m.\u001b[0m\u001b[0mcolor\u001b[0m \u001b[0;34m=\u001b[0m \u001b[0;34m'blue'\u001b[0m\u001b[0;34m\u001b[0m\u001b[0;34m\u001b[0m\u001b[0m\n\u001b[0m",
            "\u001b[0;31mAttributeError\u001b[0m: can't set attribute"
          ]
        }
      ]
    }
  ]
}