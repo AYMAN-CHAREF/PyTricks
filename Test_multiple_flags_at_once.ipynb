{
  "nbformat": 4,
  "nbformat_minor": 0,
  "metadata": {
    "colab": {
      "provenance": [],
      "authorship_tag": "ABX9TyOaQd3t4B3vbBv306S2rAA5",
      "include_colab_link": true
    },
    "kernelspec": {
      "name": "python3",
      "display_name": "Python 3"
    },
    "language_info": {
      "name": "python"
    }
  },
  "cells": [
    {
      "cell_type": "markdown",
      "metadata": {
        "id": "view-in-github",
        "colab_type": "text"
      },
      "source": [
        "<a href=\"https://colab.research.google.com/github/AYMAN-CHAREF/PyTricks/blob/main/Test_multiple_flags_at_once.ipynb\" target=\"_parent\"><img src=\"https://colab.research.google.com/assets/colab-badge.svg\" alt=\"Open In Colab\"/></a>"
      ]
    },
    {
      "cell_type": "markdown",
      "source": [
        "# Different ways to test multiple flags at once in Python"
      ],
      "metadata": {
        "id": "TL-D9RbFKAB1"
      }
    },
    {
      "cell_type": "code",
      "execution_count": 1,
      "metadata": {
        "id": "kGwXLJiQIYFC"
      },
      "outputs": [],
      "source": [
        "x, y, z = 0, 1, 0"
      ]
    },
    {
      "cell_type": "code",
      "source": [
        "if x == 1 or y == 1 or z == 1:\n",
        "    print('passed')"
      ],
      "metadata": {
        "colab": {
          "base_uri": "https://localhost:8080/"
        },
        "id": "U-Ygc4CIKQyJ",
        "outputId": "66bc394c-763a-47a9-813e-467642c70bf1"
      },
      "execution_count": 3,
      "outputs": [
        {
          "output_type": "stream",
          "name": "stdout",
          "text": [
            "passed\n"
          ]
        }
      ]
    },
    {
      "cell_type": "code",
      "source": [
        "if 1 in (x, y, z):\n",
        "    print('passed')"
      ],
      "metadata": {
        "colab": {
          "base_uri": "https://localhost:8080/"
        },
        "id": "tlKKZqLBKMH9",
        "outputId": "fca85c6a-bd64-41ef-e0d4-534a0b364e32"
      },
      "execution_count": 2,
      "outputs": [
        {
          "output_type": "stream",
          "name": "stdout",
          "text": [
            "passed\n"
          ]
        }
      ]
    },
    {
      "cell_type": "markdown",
      "source": [
        "# These only test for truthiness:"
      ],
      "metadata": {
        "id": "vSPmCcGpKW7d"
      }
    },
    {
      "cell_type": "code",
      "source": [
        "if x or y or z:\n",
        "    print('passed')"
      ],
      "metadata": {
        "colab": {
          "base_uri": "https://localhost:8080/"
        },
        "id": "4Ewd07KvKZS6",
        "outputId": "4a29570e-b5bb-479f-cbb4-9a28311ae2c4"
      },
      "execution_count": 4,
      "outputs": [
        {
          "output_type": "stream",
          "name": "stdout",
          "text": [
            "passed\n"
          ]
        }
      ]
    },
    {
      "cell_type": "code",
      "source": [
        "if any((x, y, z)):\n",
        "    print('passed')"
      ],
      "metadata": {
        "colab": {
          "base_uri": "https://localhost:8080/"
        },
        "id": "00wXRN8-KdbP",
        "outputId": "187c1917-1832-4dc1-f21e-6b414957da70"
      },
      "execution_count": 5,
      "outputs": [
        {
          "output_type": "stream",
          "name": "stdout",
          "text": [
            "passed\n"
          ]
        }
      ]
    }
  ]
}