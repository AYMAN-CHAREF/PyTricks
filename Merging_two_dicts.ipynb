{
  "nbformat": 4,
  "nbformat_minor": 0,
  "metadata": {
    "colab": {
      "provenance": []
    },
    "kernelspec": {
      "name": "python3",
      "display_name": "Python 3"
    },
    "language_info": {
      "name": "python"
    }
  },
  "cells": [
    {
      "cell_type": "code",
      "execution_count": 2,
      "metadata": {
        "id": "bZVVveaQmvDl"
      },
      "outputs": [],
      "source": [
        "# How to merge two dictionaries\n",
        "# in Python 3.5+\n",
        "\n",
        "x = {'a': 1, 'b': 2}\n",
        "y = {'b': 3, 'c': 4}\n",
        "\n",
        "z = {**x, **y}"
      ]
    },
    {
      "cell_type": "code",
      "source": [
        "z"
      ],
      "metadata": {
        "colab": {
          "base_uri": "https://localhost:8080/"
        },
        "id": "KLGB0gpjm7zs",
        "outputId": "92d0bf8c-dc45-4ca7-bb3d-fac5a03d8e02"
      },
      "execution_count": 3,
      "outputs": [
        {
          "output_type": "execute_result",
          "data": {
            "text/plain": [
              "{'a': 1, 'b': 3, 'c': 4}"
            ]
          },
          "metadata": {},
          "execution_count": 3
        }
      ]
    },
    {
      "cell_type": "code",
      "source": [
        "# In Python 2.x you could\n",
        "# use this:\n",
        "z = dict(x, **y)"
      ],
      "metadata": {
        "id": "aFHrOYcpnG6n"
      },
      "execution_count": 5,
      "outputs": []
    },
    {
      "cell_type": "code",
      "source": [
        "z"
      ],
      "metadata": {
        "colab": {
          "base_uri": "https://localhost:8080/"
        },
        "id": "Vru9svWrnKLL",
        "outputId": "ab643d75-9d09-4e84-9833-254d3f8bb124"
      },
      "execution_count": 6,
      "outputs": [
        {
          "output_type": "execute_result",
          "data": {
            "text/plain": [
              "{'a': 1, 'b': 3, 'c': 4}"
            ]
          },
          "metadata": {},
          "execution_count": 6
        }
      ]
    },
    {
      "cell_type": "markdown",
      "source": [
        "# In these examples, Python merges dictionary keys\n",
        "# in the order listed in the expression, overwriting\n",
        "# duplicates from left to right."
      ],
      "metadata": {
        "id": "oy_DCFw6nN4s"
      }
    }
  ]
}